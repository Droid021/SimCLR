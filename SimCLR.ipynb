{
 "cells": [
  {
   "cell_type": "code",
   "execution_count": 1,
   "metadata": {},
   "outputs": [],
   "source": [
    "import cv2\n",
    "import numpy as np\n",
    "import torchvision.transforms as transforms"
   ]
  },
  {
   "cell_type": "code",
   "execution_count": 2,
   "metadata": {},
   "outputs": [],
   "source": [
    "from typing import Optional\n",
    "import torch\n",
    "from torch import nn\n",
    "from torch.nn import functional as F"
   ]
  },
  {
   "cell_type": "code",
   "execution_count": 5,
   "metadata": {},
   "outputs": [],
   "source": [
    "import pytorch_lightning as pl\n",
    "from pytorch_lightning.callbacks import ModelCheckpoint\n",
    "from pytorch_lightning.callbacks import LearningRateMonitor"
   ]
  },
  {
   "cell_type": "code",
   "execution_count": 6,
   "metadata": {},
   "outputs": [],
   "source": [
    "from pl_bolts.models.self_supervised.resnets import resnet50\n",
    "from pl_bolts.optimizers.lr_scheduler import LinearWarmupCosineAnnealingLR\n",
    "from pl_bolts.datamodules import CIFAR10DataModule, STL10DataModule, ImagenetDataModule\n",
    "from pl_bolts.metrics import mean, accuracy\n",
    "from pl_bolts.models.self_supervised.evaluator import Flatten\n",
    "from pl_bolts.transforms.dataset_normalizations import cifar10_normalization, stl10_normalization, imagenet_normalization\n",
    "from pl_bolts.optimizers import LARSWrapper"
   ]
  },
  {
   "cell_type": "code",
   "execution_count": null,
   "metadata": {},
   "outputs": [],
   "source": [
    "class SimCLRTrainDataTransform(object):\n",
    "    def __init__(self,input_height: int=224,\n",
    "                 gausian_blur: bool = False, jitter_strength: float =1.,\n",
    "                 normalize: Optional[transforms.Normalize]=None) -> None:\n",
    "        self.jitter_strength = jitter_strength\n",
    "        self.input_height = input_height\n",
    "        self.gausian_blur = gausian_blur\n",
    "        self.normalize = normalize\n",
    "        \n",
    "        # jitter transform\n",
    "        self.color_jitter = transforms.ColorJitter(\n",
    "        0.8 * self.jitter,\n",
    "        0.8 * self.jitter,\n",
    "        0.8 * self.jitter,\n",
    "        0.2 * self.jitter,\n",
    "        )"
   ]
  }
 ],
 "metadata": {
  "kernelspec": {
   "display_name": "Python 3",
   "language": "python",
   "name": "python3"
  },
  "language_info": {
   "codemirror_mode": {
    "name": "ipython",
    "version": 3
   },
   "file_extension": ".py",
   "mimetype": "text/x-python",
   "name": "python",
   "nbconvert_exporter": "python",
   "pygments_lexer": "ipython3",
   "version": "3.6.9"
  }
 },
 "nbformat": 4,
 "nbformat_minor": 2
}
